{
 "cells": [
  {
   "cell_type": "code",
   "execution_count": 5,
   "metadata": {},
   "outputs": [],
   "source": [
    "import pandas as pd\n",
    "import numpy as np\n",
    "from sklearn.model_selection import train_test_split\n",
    "from sklearn.tree import DecisionTreeClassifier\n",
    "from sklearn.metrics import accuracy_score\n",
    "from sklearn import tree"
   ]
  },
  {
   "cell_type": "code",
   "execution_count": 9,
   "metadata": {},
   "outputs": [
    {
     "name": "stdout",
     "output_type": "stream",
     "text": [
      "      Id  SepalLengthCm  SepalWidthCm  PetalLengthCm  PetalWidthCm  \\\n",
      "0      1            5.1           3.5            1.4           0.2   \n",
      "1      2            4.9           3.0            1.4           0.2   \n",
      "2      3            4.7           3.2            1.3           0.2   \n",
      "3      4            4.6           3.1            1.5           0.2   \n",
      "4      5            5.0           3.6            1.4           0.2   \n",
      "5      6            5.4           3.9            1.7           0.4   \n",
      "6      7            4.6           3.4            1.4           0.3   \n",
      "7      8            5.0           3.4            1.5           0.2   \n",
      "8      9            4.4           2.9            1.4           0.2   \n",
      "9     10            4.9           3.1            1.5           0.1   \n",
      "10    11            5.4           3.7            1.5           0.2   \n",
      "11    12            4.8           3.4            1.6           0.2   \n",
      "12    13            4.8           3.0            1.4           0.1   \n",
      "13    14            4.3           3.0            1.1           0.1   \n",
      "14    15            5.8           4.0            1.2           0.2   \n",
      "15    16            5.7           4.4            1.5           0.4   \n",
      "16    17            5.4           3.9            1.3           0.4   \n",
      "17    18            5.1           3.5            1.4           0.3   \n",
      "18    19            5.7           3.8            1.7           0.3   \n",
      "19    20            5.1           3.8            1.5           0.3   \n",
      "20    21            5.4           3.4            1.7           0.2   \n",
      "21    22            5.1           3.7            1.5           0.4   \n",
      "22    23            4.6           3.6            1.0           0.2   \n",
      "23    24            5.1           3.3            1.7           0.5   \n",
      "24    25            4.8           3.4            1.9           0.2   \n",
      "25    26            5.0           3.0            1.6           0.2   \n",
      "26    27            5.0           3.4            1.6           0.4   \n",
      "27    28            5.2           3.5            1.5           0.2   \n",
      "28    29            5.2           3.4            1.4           0.2   \n",
      "29    30            4.7           3.2            1.6           0.2   \n",
      "..   ...            ...           ...            ...           ...   \n",
      "120  121            6.9           3.2            5.7           2.3   \n",
      "121  122            5.6           2.8            4.9           2.0   \n",
      "122  123            7.7           2.8            6.7           2.0   \n",
      "123  124            6.3           2.7            4.9           1.8   \n",
      "124  125            6.7           3.3            5.7           2.1   \n",
      "125  126            7.2           3.2            6.0           1.8   \n",
      "126  127            6.2           2.8            4.8           1.8   \n",
      "127  128            6.1           3.0            4.9           1.8   \n",
      "128  129            6.4           2.8            5.6           2.1   \n",
      "129  130            7.2           3.0            5.8           1.6   \n",
      "130  131            7.4           2.8            6.1           1.9   \n",
      "131  132            7.9           3.8            6.4           2.0   \n",
      "132  133            6.4           2.8            5.6           2.2   \n",
      "133  134            6.3           2.8            5.1           1.5   \n",
      "134  135            6.1           2.6            5.6           1.4   \n",
      "135  136            7.7           3.0            6.1           2.3   \n",
      "136  137            6.3           3.4            5.6           2.4   \n",
      "137  138            6.4           3.1            5.5           1.8   \n",
      "138  139            6.0           3.0            4.8           1.8   \n",
      "139  140            6.9           3.1            5.4           2.1   \n",
      "140  141            6.7           3.1            5.6           2.4   \n",
      "141  142            6.9           3.1            5.1           2.3   \n",
      "142  143            5.8           2.7            5.1           1.9   \n",
      "143  144            6.8           3.2            5.9           2.3   \n",
      "144  145            6.7           3.3            5.7           2.5   \n",
      "145  146            6.7           3.0            5.2           2.3   \n",
      "146  147            6.3           2.5            5.0           1.9   \n",
      "147  148            6.5           3.0            5.2           2.0   \n",
      "148  149            6.2           3.4            5.4           2.3   \n",
      "149  150            5.9           3.0            5.1           1.8   \n",
      "\n",
      "            Species  \n",
      "0       Iris-setosa  \n",
      "1       Iris-setosa  \n",
      "2       Iris-setosa  \n",
      "3       Iris-setosa  \n",
      "4       Iris-setosa  \n",
      "5       Iris-setosa  \n",
      "6       Iris-setosa  \n",
      "7       Iris-setosa  \n",
      "8       Iris-setosa  \n",
      "9       Iris-setosa  \n",
      "10      Iris-setosa  \n",
      "11      Iris-setosa  \n",
      "12      Iris-setosa  \n",
      "13      Iris-setosa  \n",
      "14      Iris-setosa  \n",
      "15      Iris-setosa  \n",
      "16      Iris-setosa  \n",
      "17      Iris-setosa  \n",
      "18      Iris-setosa  \n",
      "19      Iris-setosa  \n",
      "20      Iris-setosa  \n",
      "21      Iris-setosa  \n",
      "22      Iris-setosa  \n",
      "23      Iris-setosa  \n",
      "24      Iris-setosa  \n",
      "25      Iris-setosa  \n",
      "26      Iris-setosa  \n",
      "27      Iris-setosa  \n",
      "28      Iris-setosa  \n",
      "29      Iris-setosa  \n",
      "..              ...  \n",
      "120  Iris-virginica  \n",
      "121  Iris-virginica  \n",
      "122  Iris-virginica  \n",
      "123  Iris-virginica  \n",
      "124  Iris-virginica  \n",
      "125  Iris-virginica  \n",
      "126  Iris-virginica  \n",
      "127  Iris-virginica  \n",
      "128  Iris-virginica  \n",
      "129  Iris-virginica  \n",
      "130  Iris-virginica  \n",
      "131  Iris-virginica  \n",
      "132  Iris-virginica  \n",
      "133  Iris-virginica  \n",
      "134  Iris-virginica  \n",
      "135  Iris-virginica  \n",
      "136  Iris-virginica  \n",
      "137  Iris-virginica  \n",
      "138  Iris-virginica  \n",
      "139  Iris-virginica  \n",
      "140  Iris-virginica  \n",
      "141  Iris-virginica  \n",
      "142  Iris-virginica  \n",
      "143  Iris-virginica  \n",
      "144  Iris-virginica  \n",
      "145  Iris-virginica  \n",
      "146  Iris-virginica  \n",
      "147  Iris-virginica  \n",
      "148  Iris-virginica  \n",
      "149  Iris-virginica  \n",
      "\n",
      "[150 rows x 6 columns]\n"
     ]
    }
   ],
   "source": [
    "iris = pd.read_csv('Iris.csv')\n",
    "df = pd.DataFrame(iris)\n",
    "print(df)"
   ]
  },
  {
   "cell_type": "code",
   "execution_count": 12,
   "metadata": {},
   "outputs": [
    {
     "data": {
      "text/html": [
       "<div>\n",
       "<table border=\"1\" class=\"dataframe\">\n",
       "  <thead>\n",
       "    <tr style=\"text-align: right;\">\n",
       "      <th></th>\n",
       "      <th>count</th>\n",
       "    </tr>\n",
       "    <tr>\n",
       "      <th>Species</th>\n",
       "      <th></th>\n",
       "    </tr>\n",
       "  </thead>\n",
       "  <tbody>\n",
       "    <tr>\n",
       "      <th>Iris-setosa</th>\n",
       "      <td>50</td>\n",
       "    </tr>\n",
       "    <tr>\n",
       "      <th>Iris-versicolor</th>\n",
       "      <td>50</td>\n",
       "    </tr>\n",
       "    <tr>\n",
       "      <th>Iris-virginica</th>\n",
       "      <td>50</td>\n",
       "    </tr>\n",
       "  </tbody>\n",
       "</table>\n",
       "</div>"
      ],
      "text/plain": [
       "                 count\n",
       "Species               \n",
       "Iris-setosa         50\n",
       "Iris-versicolor     50\n",
       "Iris-virginica      50"
      ]
     },
     "execution_count": 12,
     "metadata": {},
     "output_type": "execute_result"
    }
   ],
   "source": [
    "iris['count']=1\n",
    "iris[['Species','count']].groupby('Species').count()"
   ]
  },
  {
   "cell_type": "code",
   "execution_count": 13,
   "metadata": {},
   "outputs": [],
   "source": [
    "df.replace({\"Iris-setosa\":0,\"Iris-versicolor\":1, \"Iris-virginica\":2}, inplace = True, regex=True)\n",
    "    "
   ]
  },
  {
   "cell_type": "code",
   "execution_count": 15,
   "metadata": {},
   "outputs": [
    {
     "name": "stdout",
     "output_type": "stream",
     "text": [
      "      Id  SepalLengthCm  SepalWidthCm  PetalLengthCm  PetalWidthCm  Species  \\\n",
      "0      1            5.1           3.5            1.4           0.2        0   \n",
      "1      2            4.9           3.0            1.4           0.2        0   \n",
      "2      3            4.7           3.2            1.3           0.2        0   \n",
      "3      4            4.6           3.1            1.5           0.2        0   \n",
      "4      5            5.0           3.6            1.4           0.2        0   \n",
      "5      6            5.4           3.9            1.7           0.4        0   \n",
      "6      7            4.6           3.4            1.4           0.3        0   \n",
      "7      8            5.0           3.4            1.5           0.2        0   \n",
      "8      9            4.4           2.9            1.4           0.2        0   \n",
      "9     10            4.9           3.1            1.5           0.1        0   \n",
      "10    11            5.4           3.7            1.5           0.2        0   \n",
      "11    12            4.8           3.4            1.6           0.2        0   \n",
      "12    13            4.8           3.0            1.4           0.1        0   \n",
      "13    14            4.3           3.0            1.1           0.1        0   \n",
      "14    15            5.8           4.0            1.2           0.2        0   \n",
      "15    16            5.7           4.4            1.5           0.4        0   \n",
      "16    17            5.4           3.9            1.3           0.4        0   \n",
      "17    18            5.1           3.5            1.4           0.3        0   \n",
      "18    19            5.7           3.8            1.7           0.3        0   \n",
      "19    20            5.1           3.8            1.5           0.3        0   \n",
      "20    21            5.4           3.4            1.7           0.2        0   \n",
      "21    22            5.1           3.7            1.5           0.4        0   \n",
      "22    23            4.6           3.6            1.0           0.2        0   \n",
      "23    24            5.1           3.3            1.7           0.5        0   \n",
      "24    25            4.8           3.4            1.9           0.2        0   \n",
      "25    26            5.0           3.0            1.6           0.2        0   \n",
      "26    27            5.0           3.4            1.6           0.4        0   \n",
      "27    28            5.2           3.5            1.5           0.2        0   \n",
      "28    29            5.2           3.4            1.4           0.2        0   \n",
      "29    30            4.7           3.2            1.6           0.2        0   \n",
      "..   ...            ...           ...            ...           ...      ...   \n",
      "120  121            6.9           3.2            5.7           2.3        2   \n",
      "121  122            5.6           2.8            4.9           2.0        2   \n",
      "122  123            7.7           2.8            6.7           2.0        2   \n",
      "123  124            6.3           2.7            4.9           1.8        2   \n",
      "124  125            6.7           3.3            5.7           2.1        2   \n",
      "125  126            7.2           3.2            6.0           1.8        2   \n",
      "126  127            6.2           2.8            4.8           1.8        2   \n",
      "127  128            6.1           3.0            4.9           1.8        2   \n",
      "128  129            6.4           2.8            5.6           2.1        2   \n",
      "129  130            7.2           3.0            5.8           1.6        2   \n",
      "130  131            7.4           2.8            6.1           1.9        2   \n",
      "131  132            7.9           3.8            6.4           2.0        2   \n",
      "132  133            6.4           2.8            5.6           2.2        2   \n",
      "133  134            6.3           2.8            5.1           1.5        2   \n",
      "134  135            6.1           2.6            5.6           1.4        2   \n",
      "135  136            7.7           3.0            6.1           2.3        2   \n",
      "136  137            6.3           3.4            5.6           2.4        2   \n",
      "137  138            6.4           3.1            5.5           1.8        2   \n",
      "138  139            6.0           3.0            4.8           1.8        2   \n",
      "139  140            6.9           3.1            5.4           2.1        2   \n",
      "140  141            6.7           3.1            5.6           2.4        2   \n",
      "141  142            6.9           3.1            5.1           2.3        2   \n",
      "142  143            5.8           2.7            5.1           1.9        2   \n",
      "143  144            6.8           3.2            5.9           2.3        2   \n",
      "144  145            6.7           3.3            5.7           2.5        2   \n",
      "145  146            6.7           3.0            5.2           2.3        2   \n",
      "146  147            6.3           2.5            5.0           1.9        2   \n",
      "147  148            6.5           3.0            5.2           2.0        2   \n",
      "148  149            6.2           3.4            5.4           2.3        2   \n",
      "149  150            5.9           3.0            5.1           1.8        2   \n",
      "\n",
      "     count  \n",
      "0        1  \n",
      "1        1  \n",
      "2        1  \n",
      "3        1  \n",
      "4        1  \n",
      "5        1  \n",
      "6        1  \n",
      "7        1  \n",
      "8        1  \n",
      "9        1  \n",
      "10       1  \n",
      "11       1  \n",
      "12       1  \n",
      "13       1  \n",
      "14       1  \n",
      "15       1  \n",
      "16       1  \n",
      "17       1  \n",
      "18       1  \n",
      "19       1  \n",
      "20       1  \n",
      "21       1  \n",
      "22       1  \n",
      "23       1  \n",
      "24       1  \n",
      "25       1  \n",
      "26       1  \n",
      "27       1  \n",
      "28       1  \n",
      "29       1  \n",
      "..     ...  \n",
      "120      1  \n",
      "121      1  \n",
      "122      1  \n",
      "123      1  \n",
      "124      1  \n",
      "125      1  \n",
      "126      1  \n",
      "127      1  \n",
      "128      1  \n",
      "129      1  \n",
      "130      1  \n",
      "131      1  \n",
      "132      1  \n",
      "133      1  \n",
      "134      1  \n",
      "135      1  \n",
      "136      1  \n",
      "137      1  \n",
      "138      1  \n",
      "139      1  \n",
      "140      1  \n",
      "141      1  \n",
      "142      1  \n",
      "143      1  \n",
      "144      1  \n",
      "145      1  \n",
      "146      1  \n",
      "147      1  \n",
      "148      1  \n",
      "149      1  \n",
      "\n",
      "[150 rows x 7 columns]\n"
     ]
    }
   ],
   "source": [
    "final = pd.DataFrame(df)\n",
    "#print(final)"
   ]
  },
  {
   "cell_type": "code",
   "execution_count": 18,
   "metadata": {},
   "outputs": [
    {
     "name": "stdout",
     "output_type": "stream",
     "text": [
      "[0. 0. 0. 0. 0. 0. 0. 0. 0. 0. 0. 0. 0. 0. 0. 0. 0. 0. 0. 0. 0. 0. 0. 0.\n",
      " 0. 0. 0. 0. 0. 0. 0. 0. 0. 0. 0. 0. 0. 0. 0. 0. 0. 0. 0. 0. 0. 0. 0. 0.\n",
      " 0. 0. 1. 1. 1. 1. 1. 1. 1. 1. 1. 1. 1. 1. 1. 1. 1. 1. 1. 1. 1. 1. 1. 1.\n",
      " 1. 1. 1. 1. 1. 1. 1. 1. 1. 1. 1. 1. 1. 1. 1. 1. 1. 1. 1. 1. 1. 1. 1. 1.\n",
      " 1. 1. 1. 1. 2. 2. 2. 2. 2. 2. 2. 2. 2. 2. 2. 2. 2. 2. 2. 2. 2. 2. 2. 2.\n",
      " 2. 2. 2. 2. 2. 2. 2. 2. 2. 2. 2. 2. 2. 2. 2. 2. 2. 2. 2. 2. 2. 2. 2. 2.\n",
      " 2. 2. 2. 2. 2. 2.]\n"
     ]
    }
   ],
   "source": [
    "#slicing the data set into target variable x and features x\n",
    "x = final.values[:,1:5]\n",
    "#print(x)\n",
    "y= final.values[:,5]\n",
    "print(y)"
   ]
  },
  {
   "cell_type": "code",
   "execution_count": 42,
   "metadata": {},
   "outputs": [],
   "source": [
    "X_train,X_test,y_train,y_test= train_test_split(x,y,test_size=0.4,random_state=100)"
   ]
  },
  {
   "cell_type": "code",
   "execution_count": 43,
   "metadata": {},
   "outputs": [],
   "source": [
    "clf_entropy = DecisionTreeClassifier(criterion = 'entropy', splitter = 'best',min_samples_split=2,min_samples_leaf=1)"
   ]
  },
  {
   "cell_type": "code",
   "execution_count": 44,
   "metadata": {},
   "outputs": [
    {
     "name": "stdout",
     "output_type": "stream",
     "text": [
      "Trained Decision Tree Classifier\n",
      "DecisionTreeClassifier(class_weight=None, criterion='entropy', max_depth=None,\n",
      "            max_features=None, max_leaf_nodes=None,\n",
      "            min_impurity_decrease=0.0, min_impurity_split=None,\n",
      "            min_samples_leaf=1, min_samples_split=2,\n",
      "            min_weight_fraction_leaf=0.0, presort=False, random_state=None,\n",
      "            splitter='best')\n"
     ]
    }
   ],
   "source": [
    "print(\"Trained Decision Tree Classifier\")\n",
    "print(clf_entropy)"
   ]
  },
  {
   "cell_type": "code",
   "execution_count": 45,
   "metadata": {},
   "outputs": [
    {
     "data": {
      "text/plain": [
       "DecisionTreeClassifier(class_weight=None, criterion='entropy', max_depth=None,\n",
       "            max_features=None, max_leaf_nodes=None,\n",
       "            min_impurity_decrease=0.0, min_impurity_split=None,\n",
       "            min_samples_leaf=1, min_samples_split=2,\n",
       "            min_weight_fraction_leaf=0.0, presort=False, random_state=None,\n",
       "            splitter='best')"
      ]
     },
     "execution_count": 45,
     "metadata": {},
     "output_type": "execute_result"
    }
   ],
   "source": [
    "clf_entropy.fit(X_train,y_train)"
   ]
  },
  {
   "cell_type": "code",
   "execution_count": 46,
   "metadata": {},
   "outputs": [
    {
     "name": "stdout",
     "output_type": "stream",
     "text": [
      "<bound method BaseDecisionTree.decision_path of DecisionTreeClassifier(class_weight=None, criterion='entropy', max_depth=None,\n",
      "            max_features=None, max_leaf_nodes=None,\n",
      "            min_impurity_decrease=0.0, min_impurity_split=None,\n",
      "            min_samples_leaf=1, min_samples_split=2,\n",
      "            min_weight_fraction_leaf=0.0, presort=False, random_state=None,\n",
      "            splitter='best')>\n"
     ]
    }
   ],
   "source": [
    "path= clf_entropy.decision_path\n",
    "print(path)"
   ]
  },
  {
   "cell_type": "code",
   "execution_count": 47,
   "metadata": {},
   "outputs": [
    {
     "name": "stdout",
     "output_type": "stream",
     "text": [
      "[2. 0. 2. 0. 2. 2. 0. 0. 2. 0. 0. 2. 0. 0. 2. 1. 1. 2. 2. 2. 2. 0. 2. 0.\n",
      " 1. 2. 1. 0. 1. 2. 1. 1. 1. 0. 0. 1. 0. 1. 2. 2. 0. 1. 2. 2. 0. 0. 0. 0.\n",
      " 1. 0. 0. 0. 1. 2. 2. 1. 2. 1. 2. 2.]\n"
     ]
    }
   ],
   "source": [
    "yprediction = clf_entropy.predict(X_test)\n",
    "print(yprediction)"
   ]
  },
  {
   "cell_type": "code",
   "execution_count": 48,
   "metadata": {},
   "outputs": [
    {
     "name": "stdout",
     "output_type": "stream",
     "text": [
      "[2. 0. 2. 0. 2. 2. 0. 0. 2. 0. 0. 2. 0. 0. 2. 1. 1. 1. 2. 2. 2. 0. 2. 0.\n",
      " 1. 2. 1. 0. 1. 2. 1. 1. 2. 0. 0. 1. 0. 1. 2. 2. 0. 1. 2. 2. 0. 0. 0. 0.\n",
      " 1. 0. 0. 0. 1. 2. 2. 1. 2. 1. 2. 2.]\n"
     ]
    }
   ],
   "source": [
    "print(y_test)"
   ]
  },
  {
   "cell_type": "code",
   "execution_count": 49,
   "metadata": {},
   "outputs": [
    {
     "name": "stdout",
     "output_type": "stream",
     "text": [
      "Testing the accuracy of Decision Tree ID# 96.66666666666667\n"
     ]
    }
   ],
   "source": [
    "print(\"Testing the accuracy of Decision Tree ID#\",accuracy_score(y_test,yprediction)*100)"
   ]
  },
  {
   "cell_type": "code",
   "execution_count": 41,
   "metadata": {},
   "outputs": [
    {
     "name": "stdout",
     "output_type": "stream",
     "text": [
      "(75, 4)\n"
     ]
    }
   ],
   "source": [
    "print(X_train.shape)"
   ]
  },
  {
   "cell_type": "code",
   "execution_count": null,
   "metadata": {},
   "outputs": [],
   "source": []
  },
  {
   "cell_type": "code",
   "execution_count": null,
   "metadata": {},
   "outputs": [],
   "source": [
    "\n"
   ]
  },
  {
   "cell_type": "code",
   "execution_count": null,
   "metadata": {},
   "outputs": [],
   "source": []
  }
 ],
 "metadata": {
  "kernelspec": {
   "display_name": "Python 3",
   "language": "python",
   "name": "python3"
  },
  "language_info": {
   "codemirror_mode": {
    "name": "ipython",
    "version": 3
   },
   "file_extension": ".py",
   "mimetype": "text/x-python",
   "name": "python",
   "nbconvert_exporter": "python",
   "pygments_lexer": "ipython3",
   "version": "3.5.4"
  }
 },
 "nbformat": 4,
 "nbformat_minor": 2
}
